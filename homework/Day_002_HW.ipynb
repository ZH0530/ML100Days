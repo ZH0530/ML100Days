{
 "cells": [
  {
   "cell_type": "markdown",
   "metadata": {},
   "source": [
    "## [作業目標]\n",
    "了解機器學習適合應用的領域與範疇。"
   ]
  },
  {
   "cell_type": "markdown",
   "metadata": {},
   "source": [
    "## [作業重點]\n",
    "透過瞭解機器學習的運作方式，找出非常適用機器學習應用的領域及其原因"
   ]
  },
  {
   "cell_type": "markdown",
   "metadata": {},
   "source": [
    "## 作業\n",
    "請找出一個你認為機器學習可以發光發熱的領域並闡述原因? "
   ]
  },
  {
   "cell_type": "code",
   "execution_count": 1,
   "metadata": {},
   "outputs": [
    {
     "data": {
      "text/plain": [
       "'\\n我認為機器學習可以在投資股票的領域有很好的成果。\\n因為在投資市場上，雖然有人為的不理性因素，但可以參考的客觀資料還是很多。如EPS、營收表現、交易量、近期股價趨勢等。\\n此外，股市交易有著龐大資料，有大量資料可以訓練，對於監督式學習是很好的應用領域。\\n因此，我認為機器學習在股票市場領域的應用很值得開發。\\n'"
      ]
     },
     "execution_count": 1,
     "metadata": {},
     "output_type": "execute_result"
    }
   ],
   "source": [
    "   \"\"\"\n",
    "   我認為機器學習可以在投資股票的領域有很好的成果。\n",
    "   因為在投資市場上，雖然有人為的不理性因素，但可以參考的客觀資料還是很多。如EPS、營收表現、交易量、近期股價趨勢等。\n",
    "   此外，股市交易有著龐大資料，有大量資料可以訓練，對於監督式學習是很好的應用領域。\n",
    "   因此，我認為機器學習在股票市場領域的應用很值得開發。\n",
    "   \"\"\""
   ]
  }
 ],
 "metadata": {
  "kernelspec": {
   "display_name": "Python 3",
   "language": "python",
   "name": "python3"
  },
  "language_info": {
   "codemirror_mode": {
    "name": "ipython",
    "version": 3
   },
   "file_extension": ".py",
   "mimetype": "text/x-python",
   "name": "python",
   "nbconvert_exporter": "python",
   "pygments_lexer": "ipython3",
   "version": "3.7.1"
  }
 },
 "nbformat": 4,
 "nbformat_minor": 2
}
